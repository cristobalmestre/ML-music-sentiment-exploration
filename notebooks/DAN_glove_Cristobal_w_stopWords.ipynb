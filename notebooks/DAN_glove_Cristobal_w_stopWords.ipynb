{
  "nbformat": 4,
  "nbformat_minor": 0,
  "metadata": {
    "colab": {
      "provenance": [],
      "machine_shape": "hm",
      "gpuType": "T4"
    },
    "kernelspec": {
      "name": "python3",
      "display_name": "Python 3"
    },
    "language_info": {
      "name": "python"
    },
    "accelerator": "GPU"
  },
  "cells": [
    {
      "cell_type": "code",
      "execution_count": 1,
      "metadata": {
        "colab": {
          "base_uri": "https://localhost:8080/"
        },
        "id": "NYyXv7ZbVr-P",
        "outputId": "e443b40d-2635-47a9-ad93-b0e3fefa02a1"
      },
      "outputs": [
        {
          "output_type": "stream",
          "name": "stdout",
          "text": [
            "Sun May 12 02:08:43 2024       \n",
            "+---------------------------------------------------------------------------------------+\n",
            "| NVIDIA-SMI 535.104.05             Driver Version: 535.104.05   CUDA Version: 12.2     |\n",
            "|-----------------------------------------+----------------------+----------------------+\n",
            "| GPU  Name                 Persistence-M | Bus-Id        Disp.A | Volatile Uncorr. ECC |\n",
            "| Fan  Temp   Perf          Pwr:Usage/Cap |         Memory-Usage | GPU-Util  Compute M. |\n",
            "|                                         |                      |               MIG M. |\n",
            "|=========================================+======================+======================|\n",
            "|   0  Tesla T4                       Off | 00000000:00:04.0 Off |                    0 |\n",
            "| N/A   44C    P8               9W /  70W |      0MiB / 15360MiB |      0%      Default |\n",
            "|                                         |                      |                  N/A |\n",
            "+-----------------------------------------+----------------------+----------------------+\n",
            "                                                                                         \n",
            "+---------------------------------------------------------------------------------------+\n",
            "| Processes:                                                                            |\n",
            "|  GPU   GI   CI        PID   Type   Process name                            GPU Memory |\n",
            "|        ID   ID                                                             Usage      |\n",
            "|=======================================================================================|\n",
            "|  No running processes found                                                           |\n",
            "+---------------------------------------------------------------------------------------+\n"
          ]
        }
      ],
      "source": [
        "gpu_info = !nvidia-smi\n",
        "gpu_info = '\\n'.join(gpu_info)\n",
        "if gpu_info.find('failed') >= 0:\n",
        "  print('Not connected to a GPU')\n",
        "else:\n",
        "  print(gpu_info)"
      ]
    },
    {
      "cell_type": "code",
      "source": [
        "from psutil import virtual_memory\n",
        "ram_gb = virtual_memory().total / 1e9\n",
        "print('Your runtime has {:.1f} gigabytes of available RAM\\n'.format(ram_gb))\n",
        "\n",
        "if ram_gb < 20:\n",
        "  print('Not using a high-RAM runtime')\n",
        "else:\n",
        "  print('You are using a high-RAM runtime!')"
      ],
      "metadata": {
        "colab": {
          "base_uri": "https://localhost:8080/"
        },
        "id": "y-l_xeCKVwup",
        "outputId": "b1002169-f13f-400e-938a-4d0d960b4a8c"
      },
      "execution_count": 2,
      "outputs": [
        {
          "output_type": "stream",
          "name": "stdout",
          "text": [
            "Your runtime has 54.8 gigabytes of available RAM\n",
            "\n",
            "You are using a high-RAM runtime!\n"
          ]
        }
      ]
    },
    {
      "cell_type": "code",
      "source": [
        "!pip install langdetect"
      ],
      "metadata": {
        "colab": {
          "base_uri": "https://localhost:8080/"
        },
        "id": "nqrK-wMwVy2e",
        "outputId": "cb70d609-e9bb-410d-d7a3-d353f7c96ebb"
      },
      "execution_count": 3,
      "outputs": [
        {
          "output_type": "stream",
          "name": "stdout",
          "text": [
            "Collecting langdetect\n",
            "  Downloading langdetect-1.0.9.tar.gz (981 kB)\n",
            "\u001b[?25l     \u001b[90m━━━━━━━━━━━━━━━━━━━━━━━━━━━━━━━━━━━━━━━━\u001b[0m \u001b[32m0.0/981.5 kB\u001b[0m \u001b[31m?\u001b[0m eta \u001b[36m-:--:--\u001b[0m\r\u001b[2K     \u001b[91m━━━━━━━━\u001b[0m\u001b[90m╺\u001b[0m\u001b[90m━━━━━━━━━━━━━━━━━━━━━━━━━━━━━━━\u001b[0m \u001b[32m204.8/981.5 kB\u001b[0m \u001b[31m6.2 MB/s\u001b[0m eta \u001b[36m0:00:01\u001b[0m\r\u001b[2K     \u001b[91m━━━━━━━━━━━━━━━━━━━━━━━━━━\u001b[0m\u001b[90m╺\u001b[0m\u001b[90m━━━━━━━━━━━━━\u001b[0m \u001b[32m645.1/981.5 kB\u001b[0m \u001b[31m9.4 MB/s\u001b[0m eta \u001b[36m0:00:01\u001b[0m\r\u001b[2K     \u001b[90m━━━━━━━━━━━━━━━━━━━━━━━━━━━━━━━━━━━━━━━━\u001b[0m \u001b[32m981.5/981.5 kB\u001b[0m \u001b[31m9.8 MB/s\u001b[0m eta \u001b[36m0:00:00\u001b[0m\n",
            "\u001b[?25h  Preparing metadata (setup.py) ... \u001b[?25l\u001b[?25hdone\n",
            "Requirement already satisfied: six in /usr/local/lib/python3.10/dist-packages (from langdetect) (1.16.0)\n",
            "Building wheels for collected packages: langdetect\n",
            "  Building wheel for langdetect (setup.py) ... \u001b[?25l\u001b[?25hdone\n",
            "  Created wheel for langdetect: filename=langdetect-1.0.9-py3-none-any.whl size=993227 sha256=fd7027d61719374d39be59bef9566b9615967115987ff79e96164a94d0c87223\n",
            "  Stored in directory: /root/.cache/pip/wheels/95/03/7d/59ea870c70ce4e5a370638b5462a7711ab78fba2f655d05106\n",
            "Successfully built langdetect\n",
            "Installing collected packages: langdetect\n",
            "Successfully installed langdetect-1.0.9\n"
          ]
        }
      ]
    },
    {
      "cell_type": "code",
      "source": [
        "import pandas as pd\n",
        "from langdetect import detect\n",
        "import nltk\n",
        "import re"
      ],
      "metadata": {
        "id": "gmL4KYQJjQv2"
      },
      "execution_count": 6,
      "outputs": []
    },
    {
      "cell_type": "code",
      "source": [
        "df = pd.read_csv('balanced.csv') #upload csv manually!!\n",
        "\n",
        "def clean(paragraph, words_to_remove):\n",
        "    paragraph = paragraph.lower()\n",
        "    paragraph = re.sub(r'\\d+', '', paragraph)\n",
        "    for word in words_to_remove:\n",
        "        paragraph = paragraph.replace(word, \"\")\n",
        "    paragraph = paragraph.replace(\". \", \".\")\n",
        "    return paragraph\n",
        "\n",
        "words_to_remove = [\"[\",\"]\",\"-\",\"+\",\"verse\",\"chorus\",\"outro\",\"intro\",\":\"]\n",
        "\n",
        "balanced_data = df.copy()\n",
        "balanced_data['lyrics'] = balanced_data['lyrics'].apply(lambda x: clean(x, words_to_remove))"
      ],
      "metadata": {
        "id": "w0fLN3kmihm1"
      },
      "execution_count": 9,
      "outputs": []
    },
    {
      "cell_type": "code",
      "source": [
        "balanced_data"
      ],
      "metadata": {
        "colab": {
          "base_uri": "https://localhost:8080/",
          "height": 424
        },
        "id": "Z36AzmExjvBH",
        "outputId": "6ef1d0f3-1a05-4710-94b7-47354d077f08"
      },
      "execution_count": 11,
      "outputs": [
        {
          "output_type": "execute_result",
          "data": {
            "text/plain": [
              "       valence_tags  positivity  \\\n",
              "0          3.000000           0   \n",
              "1          3.858696           0   \n",
              "2          7.616667           1   \n",
              "3          6.685000           1   \n",
              "4          3.240000           0   \n",
              "...             ...         ...   \n",
              "16841      7.807083           1   \n",
              "16842      5.998475           1   \n",
              "16843      3.160000           0   \n",
              "16844      2.530000           0   \n",
              "16845      8.470000           1   \n",
              "\n",
              "                                                  lyrics  \n",
              "0       .from the haunts of daily life.where is waged...  \n",
              "1      i was waiting for a mermaid to appear.saying c...  \n",
              "2       .i waited for you winterlong.you seem to be w...  \n",
              "3      the world is giving you the run around.it leav...  \n",
              "4       .you know what they say.that everything in yo...  \n",
              "...                                                  ...  \n",
              "16841  if we received a warning call.would we change ...  \n",
              "16842   .i know so many.places in the world.i follow ...  \n",
              "16843  i bring you death.and steal your breath.i am y...  \n",
              "16844  close your eyes, we're coming down.close your ...  \n",
              "16845  in the backyard.in the living room.residential...  \n",
              "\n",
              "[16846 rows x 3 columns]"
            ],
            "text/html": [
              "\n",
              "  <div id=\"df-634d5fa3-72f2-4269-9662-94a18aedc415\" class=\"colab-df-container\">\n",
              "    <div>\n",
              "<style scoped>\n",
              "    .dataframe tbody tr th:only-of-type {\n",
              "        vertical-align: middle;\n",
              "    }\n",
              "\n",
              "    .dataframe tbody tr th {\n",
              "        vertical-align: top;\n",
              "    }\n",
              "\n",
              "    .dataframe thead th {\n",
              "        text-align: right;\n",
              "    }\n",
              "</style>\n",
              "<table border=\"1\" class=\"dataframe\">\n",
              "  <thead>\n",
              "    <tr style=\"text-align: right;\">\n",
              "      <th></th>\n",
              "      <th>valence_tags</th>\n",
              "      <th>positivity</th>\n",
              "      <th>lyrics</th>\n",
              "    </tr>\n",
              "  </thead>\n",
              "  <tbody>\n",
              "    <tr>\n",
              "      <th>0</th>\n",
              "      <td>3.000000</td>\n",
              "      <td>0</td>\n",
              "      <td>.from the haunts of daily life.where is waged...</td>\n",
              "    </tr>\n",
              "    <tr>\n",
              "      <th>1</th>\n",
              "      <td>3.858696</td>\n",
              "      <td>0</td>\n",
              "      <td>i was waiting for a mermaid to appear.saying c...</td>\n",
              "    </tr>\n",
              "    <tr>\n",
              "      <th>2</th>\n",
              "      <td>7.616667</td>\n",
              "      <td>1</td>\n",
              "      <td>.i waited for you winterlong.you seem to be w...</td>\n",
              "    </tr>\n",
              "    <tr>\n",
              "      <th>3</th>\n",
              "      <td>6.685000</td>\n",
              "      <td>1</td>\n",
              "      <td>the world is giving you the run around.it leav...</td>\n",
              "    </tr>\n",
              "    <tr>\n",
              "      <th>4</th>\n",
              "      <td>3.240000</td>\n",
              "      <td>0</td>\n",
              "      <td>.you know what they say.that everything in yo...</td>\n",
              "    </tr>\n",
              "    <tr>\n",
              "      <th>...</th>\n",
              "      <td>...</td>\n",
              "      <td>...</td>\n",
              "      <td>...</td>\n",
              "    </tr>\n",
              "    <tr>\n",
              "      <th>16841</th>\n",
              "      <td>7.807083</td>\n",
              "      <td>1</td>\n",
              "      <td>if we received a warning call.would we change ...</td>\n",
              "    </tr>\n",
              "    <tr>\n",
              "      <th>16842</th>\n",
              "      <td>5.998475</td>\n",
              "      <td>1</td>\n",
              "      <td>.i know so many.places in the world.i follow ...</td>\n",
              "    </tr>\n",
              "    <tr>\n",
              "      <th>16843</th>\n",
              "      <td>3.160000</td>\n",
              "      <td>0</td>\n",
              "      <td>i bring you death.and steal your breath.i am y...</td>\n",
              "    </tr>\n",
              "    <tr>\n",
              "      <th>16844</th>\n",
              "      <td>2.530000</td>\n",
              "      <td>0</td>\n",
              "      <td>close your eyes, we're coming down.close your ...</td>\n",
              "    </tr>\n",
              "    <tr>\n",
              "      <th>16845</th>\n",
              "      <td>8.470000</td>\n",
              "      <td>1</td>\n",
              "      <td>in the backyard.in the living room.residential...</td>\n",
              "    </tr>\n",
              "  </tbody>\n",
              "</table>\n",
              "<p>16846 rows × 3 columns</p>\n",
              "</div>\n",
              "    <div class=\"colab-df-buttons\">\n",
              "\n",
              "  <div class=\"colab-df-container\">\n",
              "    <button class=\"colab-df-convert\" onclick=\"convertToInteractive('df-634d5fa3-72f2-4269-9662-94a18aedc415')\"\n",
              "            title=\"Convert this dataframe to an interactive table.\"\n",
              "            style=\"display:none;\">\n",
              "\n",
              "  <svg xmlns=\"http://www.w3.org/2000/svg\" height=\"24px\" viewBox=\"0 -960 960 960\">\n",
              "    <path d=\"M120-120v-720h720v720H120Zm60-500h600v-160H180v160Zm220 220h160v-160H400v160Zm0 220h160v-160H400v160ZM180-400h160v-160H180v160Zm440 0h160v-160H620v160ZM180-180h160v-160H180v160Zm440 0h160v-160H620v160Z\"/>\n",
              "  </svg>\n",
              "    </button>\n",
              "\n",
              "  <style>\n",
              "    .colab-df-container {\n",
              "      display:flex;\n",
              "      gap: 12px;\n",
              "    }\n",
              "\n",
              "    .colab-df-convert {\n",
              "      background-color: #E8F0FE;\n",
              "      border: none;\n",
              "      border-radius: 50%;\n",
              "      cursor: pointer;\n",
              "      display: none;\n",
              "      fill: #1967D2;\n",
              "      height: 32px;\n",
              "      padding: 0 0 0 0;\n",
              "      width: 32px;\n",
              "    }\n",
              "\n",
              "    .colab-df-convert:hover {\n",
              "      background-color: #E2EBFA;\n",
              "      box-shadow: 0px 1px 2px rgba(60, 64, 67, 0.3), 0px 1px 3px 1px rgba(60, 64, 67, 0.15);\n",
              "      fill: #174EA6;\n",
              "    }\n",
              "\n",
              "    .colab-df-buttons div {\n",
              "      margin-bottom: 4px;\n",
              "    }\n",
              "\n",
              "    [theme=dark] .colab-df-convert {\n",
              "      background-color: #3B4455;\n",
              "      fill: #D2E3FC;\n",
              "    }\n",
              "\n",
              "    [theme=dark] .colab-df-convert:hover {\n",
              "      background-color: #434B5C;\n",
              "      box-shadow: 0px 1px 3px 1px rgba(0, 0, 0, 0.15);\n",
              "      filter: drop-shadow(0px 1px 2px rgba(0, 0, 0, 0.3));\n",
              "      fill: #FFFFFF;\n",
              "    }\n",
              "  </style>\n",
              "\n",
              "    <script>\n",
              "      const buttonEl =\n",
              "        document.querySelector('#df-634d5fa3-72f2-4269-9662-94a18aedc415 button.colab-df-convert');\n",
              "      buttonEl.style.display =\n",
              "        google.colab.kernel.accessAllowed ? 'block' : 'none';\n",
              "\n",
              "      async function convertToInteractive(key) {\n",
              "        const element = document.querySelector('#df-634d5fa3-72f2-4269-9662-94a18aedc415');\n",
              "        const dataTable =\n",
              "          await google.colab.kernel.invokeFunction('convertToInteractive',\n",
              "                                                    [key], {});\n",
              "        if (!dataTable) return;\n",
              "\n",
              "        const docLinkHtml = 'Like what you see? Visit the ' +\n",
              "          '<a target=\"_blank\" href=https://colab.research.google.com/notebooks/data_table.ipynb>data table notebook</a>'\n",
              "          + ' to learn more about interactive tables.';\n",
              "        element.innerHTML = '';\n",
              "        dataTable['output_type'] = 'display_data';\n",
              "        await google.colab.output.renderOutput(dataTable, element);\n",
              "        const docLink = document.createElement('div');\n",
              "        docLink.innerHTML = docLinkHtml;\n",
              "        element.appendChild(docLink);\n",
              "      }\n",
              "    </script>\n",
              "  </div>\n",
              "\n",
              "\n",
              "<div id=\"df-d8307b10-de31-4bed-891c-5ad68a3848cc\">\n",
              "  <button class=\"colab-df-quickchart\" onclick=\"quickchart('df-d8307b10-de31-4bed-891c-5ad68a3848cc')\"\n",
              "            title=\"Suggest charts\"\n",
              "            style=\"display:none;\">\n",
              "\n",
              "<svg xmlns=\"http://www.w3.org/2000/svg\" height=\"24px\"viewBox=\"0 0 24 24\"\n",
              "     width=\"24px\">\n",
              "    <g>\n",
              "        <path d=\"M19 3H5c-1.1 0-2 .9-2 2v14c0 1.1.9 2 2 2h14c1.1 0 2-.9 2-2V5c0-1.1-.9-2-2-2zM9 17H7v-7h2v7zm4 0h-2V7h2v10zm4 0h-2v-4h2v4z\"/>\n",
              "    </g>\n",
              "</svg>\n",
              "  </button>\n",
              "\n",
              "<style>\n",
              "  .colab-df-quickchart {\n",
              "      --bg-color: #E8F0FE;\n",
              "      --fill-color: #1967D2;\n",
              "      --hover-bg-color: #E2EBFA;\n",
              "      --hover-fill-color: #174EA6;\n",
              "      --disabled-fill-color: #AAA;\n",
              "      --disabled-bg-color: #DDD;\n",
              "  }\n",
              "\n",
              "  [theme=dark] .colab-df-quickchart {\n",
              "      --bg-color: #3B4455;\n",
              "      --fill-color: #D2E3FC;\n",
              "      --hover-bg-color: #434B5C;\n",
              "      --hover-fill-color: #FFFFFF;\n",
              "      --disabled-bg-color: #3B4455;\n",
              "      --disabled-fill-color: #666;\n",
              "  }\n",
              "\n",
              "  .colab-df-quickchart {\n",
              "    background-color: var(--bg-color);\n",
              "    border: none;\n",
              "    border-radius: 50%;\n",
              "    cursor: pointer;\n",
              "    display: none;\n",
              "    fill: var(--fill-color);\n",
              "    height: 32px;\n",
              "    padding: 0;\n",
              "    width: 32px;\n",
              "  }\n",
              "\n",
              "  .colab-df-quickchart:hover {\n",
              "    background-color: var(--hover-bg-color);\n",
              "    box-shadow: 0 1px 2px rgba(60, 64, 67, 0.3), 0 1px 3px 1px rgba(60, 64, 67, 0.15);\n",
              "    fill: var(--button-hover-fill-color);\n",
              "  }\n",
              "\n",
              "  .colab-df-quickchart-complete:disabled,\n",
              "  .colab-df-quickchart-complete:disabled:hover {\n",
              "    background-color: var(--disabled-bg-color);\n",
              "    fill: var(--disabled-fill-color);\n",
              "    box-shadow: none;\n",
              "  }\n",
              "\n",
              "  .colab-df-spinner {\n",
              "    border: 2px solid var(--fill-color);\n",
              "    border-color: transparent;\n",
              "    border-bottom-color: var(--fill-color);\n",
              "    animation:\n",
              "      spin 1s steps(1) infinite;\n",
              "  }\n",
              "\n",
              "  @keyframes spin {\n",
              "    0% {\n",
              "      border-color: transparent;\n",
              "      border-bottom-color: var(--fill-color);\n",
              "      border-left-color: var(--fill-color);\n",
              "    }\n",
              "    20% {\n",
              "      border-color: transparent;\n",
              "      border-left-color: var(--fill-color);\n",
              "      border-top-color: var(--fill-color);\n",
              "    }\n",
              "    30% {\n",
              "      border-color: transparent;\n",
              "      border-left-color: var(--fill-color);\n",
              "      border-top-color: var(--fill-color);\n",
              "      border-right-color: var(--fill-color);\n",
              "    }\n",
              "    40% {\n",
              "      border-color: transparent;\n",
              "      border-right-color: var(--fill-color);\n",
              "      border-top-color: var(--fill-color);\n",
              "    }\n",
              "    60% {\n",
              "      border-color: transparent;\n",
              "      border-right-color: var(--fill-color);\n",
              "    }\n",
              "    80% {\n",
              "      border-color: transparent;\n",
              "      border-right-color: var(--fill-color);\n",
              "      border-bottom-color: var(--fill-color);\n",
              "    }\n",
              "    90% {\n",
              "      border-color: transparent;\n",
              "      border-bottom-color: var(--fill-color);\n",
              "    }\n",
              "  }\n",
              "</style>\n",
              "\n",
              "  <script>\n",
              "    async function quickchart(key) {\n",
              "      const quickchartButtonEl =\n",
              "        document.querySelector('#' + key + ' button');\n",
              "      quickchartButtonEl.disabled = true;  // To prevent multiple clicks.\n",
              "      quickchartButtonEl.classList.add('colab-df-spinner');\n",
              "      try {\n",
              "        const charts = await google.colab.kernel.invokeFunction(\n",
              "            'suggestCharts', [key], {});\n",
              "      } catch (error) {\n",
              "        console.error('Error during call to suggestCharts:', error);\n",
              "      }\n",
              "      quickchartButtonEl.classList.remove('colab-df-spinner');\n",
              "      quickchartButtonEl.classList.add('colab-df-quickchart-complete');\n",
              "    }\n",
              "    (() => {\n",
              "      let quickchartButtonEl =\n",
              "        document.querySelector('#df-d8307b10-de31-4bed-891c-5ad68a3848cc button');\n",
              "      quickchartButtonEl.style.display =\n",
              "        google.colab.kernel.accessAllowed ? 'block' : 'none';\n",
              "    })();\n",
              "  </script>\n",
              "</div>\n",
              "\n",
              "  <div id=\"id_e19701b2-3ecf-4867-999c-7bb1cc378fc5\">\n",
              "    <style>\n",
              "      .colab-df-generate {\n",
              "        background-color: #E8F0FE;\n",
              "        border: none;\n",
              "        border-radius: 50%;\n",
              "        cursor: pointer;\n",
              "        display: none;\n",
              "        fill: #1967D2;\n",
              "        height: 32px;\n",
              "        padding: 0 0 0 0;\n",
              "        width: 32px;\n",
              "      }\n",
              "\n",
              "      .colab-df-generate:hover {\n",
              "        background-color: #E2EBFA;\n",
              "        box-shadow: 0px 1px 2px rgba(60, 64, 67, 0.3), 0px 1px 3px 1px rgba(60, 64, 67, 0.15);\n",
              "        fill: #174EA6;\n",
              "      }\n",
              "\n",
              "      [theme=dark] .colab-df-generate {\n",
              "        background-color: #3B4455;\n",
              "        fill: #D2E3FC;\n",
              "      }\n",
              "\n",
              "      [theme=dark] .colab-df-generate:hover {\n",
              "        background-color: #434B5C;\n",
              "        box-shadow: 0px 1px 3px 1px rgba(0, 0, 0, 0.15);\n",
              "        filter: drop-shadow(0px 1px 2px rgba(0, 0, 0, 0.3));\n",
              "        fill: #FFFFFF;\n",
              "      }\n",
              "    </style>\n",
              "    <button class=\"colab-df-generate\" onclick=\"generateWithVariable('balanced_data')\"\n",
              "            title=\"Generate code using this dataframe.\"\n",
              "            style=\"display:none;\">\n",
              "\n",
              "  <svg xmlns=\"http://www.w3.org/2000/svg\" height=\"24px\"viewBox=\"0 0 24 24\"\n",
              "       width=\"24px\">\n",
              "    <path d=\"M7,19H8.4L18.45,9,17,7.55,7,17.6ZM5,21V16.75L18.45,3.32a2,2,0,0,1,2.83,0l1.4,1.43a1.91,1.91,0,0,1,.58,1.4,1.91,1.91,0,0,1-.58,1.4L9.25,21ZM18.45,9,17,7.55Zm-12,3A5.31,5.31,0,0,0,4.9,8.1,5.31,5.31,0,0,0,1,6.5,5.31,5.31,0,0,0,4.9,4.9,5.31,5.31,0,0,0,6.5,1,5.31,5.31,0,0,0,8.1,4.9,5.31,5.31,0,0,0,12,6.5,5.46,5.46,0,0,0,6.5,12Z\"/>\n",
              "  </svg>\n",
              "    </button>\n",
              "    <script>\n",
              "      (() => {\n",
              "      const buttonEl =\n",
              "        document.querySelector('#id_e19701b2-3ecf-4867-999c-7bb1cc378fc5 button.colab-df-generate');\n",
              "      buttonEl.style.display =\n",
              "        google.colab.kernel.accessAllowed ? 'block' : 'none';\n",
              "\n",
              "      buttonEl.onclick = () => {\n",
              "        google.colab.notebook.generateWithVariable('balanced_data');\n",
              "      }\n",
              "      })();\n",
              "    </script>\n",
              "  </div>\n",
              "\n",
              "    </div>\n",
              "  </div>\n"
            ],
            "application/vnd.google.colaboratory.intrinsic+json": {
              "type": "dataframe",
              "variable_name": "balanced_data",
              "summary": "{\n  \"name\": \"balanced_data\",\n  \"rows\": 16846,\n  \"fields\": [\n    {\n      \"column\": \"valence_tags\",\n      \"properties\": {\n        \"dtype\": \"number\",\n        \"std\": 1.6704655510175694,\n        \"min\": 0.235,\n        \"max\": 8.47,\n        \"num_unique_values\": 8657,\n        \"samples\": [\n          5.35625,\n          3.32,\n          2.676960784\n        ],\n        \"semantic_type\": \"\",\n        \"description\": \"\"\n      }\n    },\n    {\n      \"column\": \"positivity\",\n      \"properties\": {\n        \"dtype\": \"number\",\n        \"std\": 0,\n        \"min\": 0,\n        \"max\": 1,\n        \"num_unique_values\": 2,\n        \"samples\": [\n          1,\n          0\n        ],\n        \"semantic_type\": \"\",\n        \"description\": \"\"\n      }\n    },\n    {\n      \"column\": \"lyrics\",\n      \"properties\": {\n        \"dtype\": \"string\",\n        \"num_unique_values\": 16843,\n        \"samples\": [\n          \" .i'm getting lost in your curls.i'm drawing pictures on your skin.so soft it twirls.i like your looks when you get mean.i know i shouldn't say so but when you claw me like a cat.i'm beaming.i like the way you squeeze my hand.pulling me into another dream.a lucid dream.i'm getting lost in your curls.i'm getting crushed out on the things that only i should see..pre.and not for boys, they're just for me.hurry to talk from far away.i can see you, you curl your fists and you pull your hair.when we're alone i wanna say.let's just stay in.no one's here in our apartment, babe..put on the dress that i like.it makes me so crazy though i can't say why.keep on your stockings for a while.some kind of magic in the way you're lying there.. .i'm getting lost in your curls.i'm getting rushed back on a whim.our breaths get wind.back to the time when we were green.i know we have changed but i still grin.cause i can't wait to see you.back to the time i touched your hair.when i was so scared to look that mean, i think it's weird.i'm getting lost in your curls.i'm getting crushed out on the things that only i should see..pre.they're not for boys, they're just for me.girl, we could talk far away.it's so hard for me only to get the urge to kiss you there.when we're alone i wanna say.let's just stay in.no one's here in our apartment, babe..put on the dress that i like.it makes me so crazy though i can't say why.keep on your stockings for a while.some kind of magic in the way you're lying there.put on the dress that i like.it makes me so crazy though i can't say why.keep on your stockings for a while.some kind of magic in the way you talk about your...blue eyeshadow, it's not exactly blue, no.but you refuse to call it anything but your blue\",\n          \"it's a long time since i saw you last.tell me how you've been.did you ever get to buy that yellow coat?.do the flowers in your window box.still smile when you walk in?.did you ever read the letters that i wrote?.and i've been on the road since christmas.but it don't seem so long.outside of that there isn't much to say.i cut down on my drinkin'.and i wrote another song.i wish you wouldn't look at me that way.remember all the mornings.that we walked around the park.the nights we babysat for billy's kids.and all the times we used to talk.of having one ourselves.i don't remember why we never did.do your neighbors still complain a bit.when the music gets too loud?.does your old cat still sleep up on the bed?.do you still walk around.as if your head was in the clouds?.have you heard a single thing i've said?.and it's a two day drive to new york.i guess i'd better go.did you notice that the weather's gettin' cold?.and it's a long time since i saw you last.and tell me how you've been.did you ever get to buy that yellow coat?.did you ever get to buy that yellow coat?\"\n        ],\n        \"semantic_type\": \"\",\n        \"description\": \"\"\n      }\n    }\n  ]\n}"
            }
          },
          "metadata": {},
          "execution_count": 11
        }
      ]
    },
    {
      "cell_type": "code",
      "source": [
        "import torch\n",
        "import torch.nn as nn\n",
        "import torch.nn.functional as F\n",
        "from torch.utils.data import DataLoader, Dataset, random_split\n",
        "from torchtext.data.utils import get_tokenizer\n",
        "from torchtext.vocab import build_vocab_from_iterator, GloVe\n",
        "from torchtext.vocab import vocab\n",
        "from collections import Counter\n",
        "import pandas as pd\n",
        "from sklearn.model_selection import train_test_split\n",
        "from sklearn.metrics import confusion_matrix, f1_score\n",
        "import seaborn as sns\n",
        "import matplotlib.pyplot as plt\n",
        "\n",
        "balanced_data = balanced_data[['lyrics', 'positivity']]  # select only the necessary columns\n",
        "\n",
        "# Split dataset into training and validation\n",
        "train_texts, val_texts, train_labels, val_labels = train_test_split(balanced_data['lyrics'], balanced_data['positivity'], test_size=0.1, random_state=42)\n"
      ],
      "metadata": {
        "id": "DsnBm7olvxRz"
      },
      "execution_count": 16,
      "outputs": []
    },
    {
      "cell_type": "code",
      "source": [
        "# Prepare tokenizer and vocabulary\n",
        "tokenizer = get_tokenizer('basic_english')\n",
        "tokenized_data = [tokenizer(txt) for txt in balanced_data['lyrics']]  # tokenize the data\n",
        "\n",
        "# Tokenize all data (train and validation)\n",
        "train_tokenized = [tokenizer(text) for text in train_texts]\n",
        "val_tokenized = [tokenizer(text) for text in val_texts]\n"
      ],
      "metadata": {
        "id": "WTy8xBjYwAUU"
      },
      "execution_count": 17,
      "outputs": []
    },
    {
      "cell_type": "code",
      "source": [
        "def build_vocab(tokenized_data):\n",
        "    counter = Counter()\n",
        "    for text in tokenized_data:\n",
        "        counter.update(text)\n",
        "    #return vocab(counter)  # This initializes the vocab\n",
        "    return vocab(counter, specials=('<unk>', '<pad>'))  # This initializes the vocab\n",
        "\n",
        "# Assuming tokenized_texts is already defined\n",
        "my_vocab = build_vocab(train_tokenized)\n",
        "my_vocab.set_default_index(my_vocab['<unk>'])"
      ],
      "metadata": {
        "id": "C9VSLQNhwmxj"
      },
      "execution_count": 18,
      "outputs": []
    },
    {
      "cell_type": "code",
      "source": [
        "# Convert tokens to indices\n",
        "train_indices = [[my_vocab[token] for token in tokens] for tokens in train_tokenized]\n",
        "val_indices = [[my_vocab[token] for token in tokens] for tokens in val_tokenized]"
      ],
      "metadata": {
        "id": "Q7IuTqi2pkH0"
      },
      "execution_count": 19,
      "outputs": []
    },
    {
      "cell_type": "code",
      "source": [
        "#tokenized_data\n",
        "# Assuming tokenized_data is a list of lists of tokens\n",
        "for i, tokens in enumerate(tokenized_data):\n",
        "    print(f\"Sentence {i+1}: {tokens}\")\n",
        "    if i == 4:  # Limit the output to the first 5 sentences\n",
        "        break"
      ],
      "metadata": {
        "colab": {
          "base_uri": "https://localhost:8080/"
        },
        "id": "6LH0gEB2wDei",
        "outputId": "3f2589f0-e950-49e2-ffae-7c32292c9821"
      },
      "execution_count": 20,
      "outputs": [
        {
          "output_type": "stream",
          "name": "stdout",
          "text": [
            "Sentence 1: ['.', 'from', 'the', 'haunts', 'of', 'daily', 'life', '.', 'where', 'is', 'waged', 'the', 'daily', 'strife', '.', 'common', 'wants', 'and', 'common', 'cares', '.', 'cuts', 'the', 'human', 'heart', 'with', 'tears', '.', '.', '.', 'rise', 'like', 'lions', 'after', 'a', 'slumber', 'in—', '.', 'in', 'greatly', 'unknowable', 'numbers', '.', '.', '.', 'let', 'the', 'tyrants', 'pour', 'around', '.', 'with', 'apocalyptic', 'sound', '.', 'on', 'the', 'charge', 'of', 'iron', 'wheels', '.', 'and', 'the', 'crash', 'of', 'horses', \"'\", 'heels', '.', '.', '.', 'rise', 'like', 'lions', 'after', 'a', 'slumber', 'in—', '.', 'in', 'greatly', 'unknowable', 'numbers', '.', 'free', 'the', 'blood', 'that', 'must', 'ensue', '.', 'we', 'are', 'many', 'and', 'they', 'are', 'few', '.', '.', 'from', 'the', 'workhouse', 'and', 'the', 'prison', '.', 'pale', 'as', 'corpses', 'newly', 'risen', '.', 'knives', 'are', 'drawn', 'now', 'let', 'them', 'see', '.', 'standing', 'tall', 'that', 'say', 'they', \"'\", 're', 'free', '.', '.', '.', 'your', 'strong', 'and', 'simple', 'words', '.', 'set', 'to', 'wound', 'as', 'sharpened', 'swords', '.', 'wide', 'as', 'targets', 'let', 'them', 'be', '.', 'with', 'their', 'shade', 'to', 'cover', 'me', '.', '.', '.', 'rise', 'like', 'lions', 'after', 'a', 'slumber', 'in—', '.', 'in', 'greatly', 'unknowable', 'numbers', '.', 'free', 'the', 'blood', 'that', 'must', 'ensue', '.', 'we', 'are', 'many', 'and', 'they', 'are', 'few']\n",
            "Sentence 2: ['i', 'was', 'waiting', 'for', 'a', 'mermaid', 'to', 'appear', '.', 'saying', 'come', 'little', 'boy', 'drown', 'your', 'fear', '.', 'so', 'young', 'we', \"'\", 're', 'the', 'new', 'explorers', '.', 'with', 'the', 'spirit', 'of', 'doctor', 'livingston', '.', 'we', \"'\", 'll', 'talk', 'to', 'the', 'savage', 'sea', '.', 'it', \"'\", 's', 'the', 'only', 'direction', 'for', 'you', 'and', 'me', '.', '.', 'we', 'won', \"'\", 't', 'die', 'together', 'in', 'the', 'desert', '.', 'we', \"'\", 'll', 'escape', 'from', 'the', 'men', 'of', 'prey', '.', 'we', \"'\", 'll', 'smile', 'like', 'the', 'french', 'resistance', '.', 'and', 'laugh', 'at', 'the', 'guillotine', '.', '.', 'we', \"'\", 'll', 'talk', 'to', 'the', 'savage', 'sea', '.', 'it', \"'\", 's', 'the', 'only', 'direction', 'for', 'you', 'and', 'me', '.', 'disapproved', 'of', 'life', 'around', 'them', '.', 'so', 'they', 'created', 'a', 'world', 'of', 'their', 'own', '.', 'you', \"'\", 're', 'my', 'last', 'request', 'before', 'the', 'firing', 'squad', '.', 'but', 'bullets', 'cannot', 'penetrate', 'the', 'sea', '.', '.', 'we', \"'\", 'll', 'hide', 'in', 'the', 'savage', 'sea', '.', 'it', \"'\", 's', 'the', 'only', 'direction', 'for', 'you', 'and', 'me', '.', 'why', 'should', 'heroes', 'always', 'die', 'in', 'battle', '.', 'take', 'the', 'violin', '.', 'we', \"'\", 're', 'exiles']\n",
            "Sentence 3: ['.', 'i', 'waited', 'for', 'you', 'winterlong', '.', 'you', 'seem', 'to', 'be', 'where', 'i', 'belong', '.', 'it', \"'\", 's', 'all', 'illusion', 'anyway', '.', 'if', 'things', 'should', 'ever', 'turn', 'out', 'wrong', '.', 'and', 'all', 'the', 'love', 'we', 'have', 'is', 'gone', '.', 'it', 'won', \"'\", 't', 'be', 'easy', 'on', 'that', 'day', '.', '.', 'bridge', '.', 'waiting', 'to', 'follow', '.', 'through', 'the', 'dreamlight', 'of', 'your', 'way', '.', 'is', 'not', 'so', 'easy', 'for', 'me', 'now', '.', 'half', 'the', 'time', 'has', 'passed', 'away', '(', 'shalalala', ')', '.', 'things', 'we', 'thought', 'of', 'yesterday', '(', 'shalalala', ')', '.', 'come', 'back', 'now', ',', 'come', 'back', 'now', ',', 'whoaoh', '.', '.', 'instrumental', 'break', '.', '.', 'bridge', '.', 'waiting', 'to', 'follow', '.', 'through', 'the', 'dreamlight', 'of', 'your', 'way', '.', 'is', 'not', 'so', 'easy', 'for', 'me', 'now', '.', 'half', 'the', 'time', 'has', 'passed', 'away', '(', 'shalalala', ')', '.', 'things', 'we', 'thought', 'of', 'yesterday', '(', 'shalalala', ')', '.', 'come', 'back', 'now', ',', 'come', 'back', 'now', ',', 'whoaoh', '.', '.', 'i', 'waited', 'for', 'you', 'winterlong', '.', 'you', 'seem', 'to', 'be', 'where', 'i', 'belong', '.', 'i', 'waited', 'for', 'you', 'winterlong', '.', 'you', 'seem', 'to', 'be', 'where', 'i', 'belong', '.', 'i', 'waited', 'for', 'you', 'winterlong', '.', 'you', 'seem', 'to', 'be', 'where', 'i', 'belong']\n",
            "Sentence 4: ['the', 'world', 'is', 'giving', 'you', 'the', 'run', 'around', '.', 'it', 'leaves', 'you', 'feeling', 'low', 'and', 'let', 'down', '.', 'but', 'happiness', 'is', 'wherever', 'you', 'find', 'it', '.', '.', 'i', \"'\", 'm', 'not', 'waiting', 'for', 'a', 'friend', 'beside', 'me', '.', 'or', 'for', 'the', 'lord', 'above', 'to', 'guide', 'me', '.', 'my', 'happiness', 'is', 'wheverever', 'i', 'find', 'it', '.', 'and', 'i', 'wanna', 'find', 'it', 'with', 'you', '.', '.', 'have', 'you', 'ever', 'felt', 'so', 'out', 'of', 'place', '.', 'that', 'the', 'smile', 'on', 'you', 'face', '.', 'was', 'to', 'keep', 'from', 'crying', '?', '.', 'i', 'don', \"'\", 't', 'know', 'how', 'we', 'get', 'so', 'out', 'of', 'touch', '.', 'but', 'i', 'don', \"'\", 't', 'want', 'much', '.', 'just', 'to', 'find', 'out', 'what', 'happiness', 'is', '.', '.', 'while', 'everybody', 'else', 'is', 'winning', '.', 'you', \"'\", 're', 'stuck', 'waiting', 'for', 'your', 'new', 'beginning', '.', 'but', 'happiness', 'is', 'wherever', 'you', 'find', 'it', '.', '.', 'you', 'may', 'be', 'full', 'of', 'life', \"'\", 's', 'frustrations', '.', 'but', 'i', \"'\", 'm', 'up', 'for', 'negotiations', '.', 'my', 'happiness', 'is', 'wherever', 'i', 'find', 'it', '.', 'and', 'i', 'wanna', 'find', 'it', 'with', 'you', '.', 'have', 'you', 'ever', 'felt', 'so', 'out', 'of', 'place', '.', 'that', 'the', 'smile', 'on', 'you', 'face', '.', 'was', 'to', 'keep', 'from', 'crying', '?', '.', 'i', 'don', \"'\", 't', 'know', 'how', 'we', 'get', 'so', 'out', 'of', 'touch', '.', 'but', 'i', 'don', \"'\", 't', 'want', 'much', '.', 'just', 'to', 'find', 'out', 'what', 'happiness', 'is', '.', '.', 'if', 'you', \"'\", 've', 'got', 'your', 'lucky', 'break', 'and', 'broke', 'it', '.', 'i', 'guess', 'you', \"'\", 've', 'got', 'your', 'options', 'open', '.', 'but', 'happiness', 'is', 'wherever', 'you', 'find', 'it', ',', 'yeah', '.', 'and', 'i', 'wanna', 'find', 'it', 'with', 'you', '.', '.', 'have', 'you', 'ever', 'felt', 'so', 'out', 'of', 'place', '.', 'that', 'the', 'smile', 'on', 'you', 'face', '.', 'was', 'to', 'keep', 'from', 'crying', '?', '.', 'i', 'don', \"'\", 't', 'know', 'how', 'we', 'get', 'so', 'out', 'of', 'touch', '.', 'but', 'i', 'don', \"'\", 't', 'want', 'much', '.', 'just', 'to', 'keep', 'on', 'trying', '.', '.', 'people', 'say', 'a', 'prayer', 'every', 'day', '.', 'that', 'they', \"'\", 'll', 'end', 'up', 'with', 'more', 'than', 'their', 'nextdoor', 'neighboor', '.', 'i', \"'\", 'm', 'not', 'buying', 'all', 'their', 'ego', 'trips', 'but', 'i', \"'\", 'll', 'get', 'my', 'kicks', '.', 'when', 'i', 'find', 'out', 'what', 'happiness', 'is', '.', '.', 'what', 'happiness', 'is', '.', 'what', 'happiness', 'is']\n",
            "Sentence 5: ['.', 'you', 'know', 'what', 'they', 'say', '.', 'that', 'everything', 'in', 'your', 'life', 'brings', 'you', 'to', 'where', 'you', 'are', 'today', '.', 'i', 'know', 'what', 'they', 'mean', '.', \"'\", 'cause', 'even', 'with', 'all', 'the', 'bad', ',', 'i', 'wouldn', \"'\", 't', 'change', 'a', 'thing', '.', \"'\", 'cause', 'it', 'led', 'me', 'to', 'you', '.', 'and', 'if', 'one', 'thing', 'was', 'different', ',', 'i', 'know', 'you', \"'\", 'd', 'be', 'missing', '.', 'so', 'there', \"'\", 's', 'no', 'regrets', '.', 'i', 'can', 'only', 'thank', 'god', 'for', 'the', 'day', 'that', 'we', 'met', '.', '.', '.', 'somebody', 'up', 'there', 'must', 'love', 'me', '.', \"'\", 'cause', 'he', 'gave', 'me', 'you', 'and', 'that', \"'\", 's', 'why', '.', 'somebody', 'up', 'there', 'must', 'love', 'me', '.', 'yes', ',', 'i', 'know', 'in', 'my', 'heart', 'that', 'i', \"'\", 'll', 'try', '.', 'to', 'give', 'you', 'love', ',', 'to', 'give', 'you', 'everything', 'you', 'need', '.', 'you', 'don', \"'\", 't', 'even', 'know', 'how', 'much', 'you', \"'\", 've', 'given', 'to', 'me', ',', 'so', '.', 'somebody', 'up', 'there', 'must', 'love', 'me', '.', \"'\", 'cause', 'he', 'gave', 'me', 'you', '.', '.', '.', 'now', 'i', 'would', 'be', 'lying', 'if', 'i', 'said', 'that', 'love', 'wasn', \"'\", 't', 'trying', '.', 'it', 'hasn', \"'\", 't', 'always', 'been', 'a', 'piece', 'of', 'cake', '.', 'we', 'had', 'mistakes', 'to', 'make', ',', 'ups', 'and', 'downs', 'but', 'we', 'always', 'came', 'around', '.', 'and', 'we', \"'\", 're', 'still', 'here', '(', 'we', 'ain', \"'\", 't', 'goin', \"'\", 'nowhere', ')', '.', 'we', 'stuck', 'together', 'longer', ',', 'that', \"'\", 's', 'what', 'made', 'us', 'stronger', '.', 'so', 'there', \"'\", 's', 'no', 'regrets', '.', 'and', 'i', 'can', 'only', 'thank', 'god', 'for', 'the', 'day', 'that', 'we', 'met', ',', 'oh', '.', '.', 'somebody', 'up', 'there', 'must', 'love', 'me', '.', \"'\", 'cause', 'he', 'gave', 'me', 'you', 'and', 'that', \"'\", 's', 'why', '.', 'somebody', 'up', 'there', 'must', 'love', 'me', '(', 'yeah', ')', '.', 'yes', ',', 'i', 'know', 'in', 'my', 'heart', 'that', 'i', \"'\", 'll', 'try', '.', 'to', 'give', 'you', 'love', ',', 'to', 'give', 'you', 'everything', 'you', 'need', '.', 'you', 'don', \"'\", 't', 'even', 'know', 'how', 'much', 'you', \"'\", 've', 'given', 'to', 'me', ',', 'so', '.', 'somebody', 'up', 'there', 'must', 'love', 'me', '.', \"'\", 'cause', 'he', 'gave', 'me', ',', 'he', 'gave', 'me', 'you', '.', '.', 'bridge', '.', 'oh', ',', 'no', 'one', 'else', 'can', 'do', 'for', 'me', 'the', 'things', 'that', 'you', 'do', 'for', 'me', '.', 'said', 'you', \"'\", 're', 'the', 'only', 'one', 'for', 'me', ',', 'yeah', ',', 'yeah', '.', 'i', 'love', 'the', 'way', 'you', \"'\", 're', 'lovin', \"'\", 'me', '.', 'you', 'are', ',', 'oh', 'baby', ',', 'not', 'yet', '.', 'and', 'it', 'feels', 'so', 'good', ',', 'babe', '.', 'to', 'know', 'that', 'you', 'love', 'me', '.', '.', '.', 'somebody', 'up', 'there', 'must', 'love', 'me', '(', 'woo', '!', ')', '.', \"'\", 'cause', 'he', 'gave', 'me', 'you', 'and', 'that', \"'\", 's', 'why', '.', 'somebody', 'up', 'there', 'must', 'love', 'me', '(', 'yeah', ')', '.', 'yes', ',', 'i', 'know', 'in', 'my', 'heart', 'that', 'i', \"'\", 'll', 'try', '.', 'to', 'give', 'you', 'love', ',', 'to', 'give', 'you', 'everything', 'you', 'need', '.', \"'\", 'cause', 'you', 'don', \"'\", 't', 'even', 'know', 'how', 'much', 'you', \"'\", 've', 'given', 'to', 'me', ',', 'so', '.', 'somebody', 'up', 'there', 'must', 'love', 'me', '(', 'someone', ',', 'yeah', ')', '.', \"'\", 'cause', 'he', 'gave', 'me', 'you', '.', '.', 'somebody', 'up', 'there', 'must', 'love', 'me', '(', 'somebody', 'must', ')', '.', \"'\", 'cause', 'he', 'gave', 'me', 'you', 'and', 'that', \"'\", 's', 'why', '.', 'somebody', 'up', 'there', 'must', 'love', 'me', '(', 'gotta', 'love', 'me', ')', '.', \"'\", 'cause', 'i', 'know', 'in', 'my', 'heart', 'that', 'i', \"'\", 'll', 'try', '.', 'to', 'give', 'you', 'love', ',', 'to', 'give', 'you', 'everything', 'you', 'need', '.', 'and', 'you', 'don', \"'\", 't', 'even', 'know', 'how', 'much', 'you', \"'\", 've', 'given', 'to', 'me', ',', 'so', '.', 'somebody', 'up', 'there', 'must', 'love', 'me', '(', 'yeah', ',', 'yeah', ')', '.', \"'\", 'cause', 'he', 'gave', 'me', 'you', '.', '.', '.', '(', 'somebody', 'up', 'there', 'must', 'love', 'me', ')', '.', \"'\", 'cause', 'he', 'gave', 'me', 'you', '.', \"'\", 'cause', 'he', 'gave', 'me', 'you']\n"
          ]
        }
      ]
    },
    {
      "cell_type": "code",
      "source": [
        "# Assuming `indices_data` is your list of lists of token indices\n",
        "# And `dataset['labels']` is your list or series of labels\n",
        "\n",
        "class LyricsDataset(torch.utils.data.Dataset):\n",
        "    def __init__(self, lyrics_indices, labels):\n",
        "        self.lyrics_indices = lyrics_indices  # List of lists of token indices\n",
        "        self.labels = torch.tensor(labels.tolist()).float()  # Convert labels to tensor\n",
        "        #self.labels = torch.tensor(labels, dtype=torch.float32)  # Convert labels to tensor\n",
        "\n",
        "    def __len__(self):\n",
        "        return len(self.lyrics_indices)\n",
        "\n",
        "    def __getitem__(self, idx):\n",
        "        lyrics_indices = torch.tensor(self.lyrics_indices[idx], dtype=torch.long)\n",
        "        label = self.labels[idx]\n",
        "        return lyrics_indices, label\n",
        "\n",
        "# Initialize training and validation datasets\n",
        "train_dataset = LyricsDataset(train_indices, train_labels)\n",
        "val_dataset = LyricsDataset(val_indices, val_labels)"
      ],
      "metadata": {
        "id": "BjISLXcMqFI1"
      },
      "execution_count": 22,
      "outputs": []
    },
    {
      "cell_type": "code",
      "source": [
        "def collate_fn(batch):\n",
        "    lyrics, labels = zip(*batch)\n",
        "    lyrics = torch.nn.utils.rnn.pad_sequence(lyrics, batch_first=True, padding_value=my_vocab['<pad>'])\n",
        "    labels = torch.stack(labels)\n",
        "    return lyrics, labels\n",
        "\n",
        "# DataLoader for the training set\n",
        "train_loader = DataLoader(train_dataset, batch_size=16, shuffle=True, collate_fn=collate_fn)\n",
        "\n",
        "# DataLoader for the validation set\n",
        "val_loader = DataLoader(val_dataset, batch_size=16, shuffle=False, collate_fn=collate_fn)"
      ],
      "metadata": {
        "id": "MV1FXRYbuxSi"
      },
      "execution_count": 23,
      "outputs": []
    },
    {
      "cell_type": "code",
      "source": [
        "from torchtext.vocab import build_vocab_from_iterator, GloVe\n",
        "from torchtext.vocab import vocab\n",
        "from collections import Counter\n",
        "\n",
        "# Load the GloVe embeddings\n",
        "glove = GloVe(name='6B', dim=300)\n",
        "\n",
        "# Map GloVe embeddings to your vocab\n",
        "def load_pretrained_embeddings(my_vocab, glove):\n",
        "    embeddings = torch.zeros(len(my_vocab), glove.dim)\n",
        "    for word, idx in my_vocab.get_stoi().items():\n",
        "        if word in glove.stoi:\n",
        "            embeddings[idx] = glove.vectors[glove.stoi[word]]\n",
        "        else:\n",
        "            embeddings[idx] = torch.randn(glove.dim)  # Random init for words not in GloVe\n",
        "    return embeddings\n",
        "\n",
        "embedding_matrix = load_pretrained_embeddings(my_vocab, glove)\n",
        "embedding_matrix.requires_grad = False  # Freeze the embeddings if you don't want to fine-tune them"
      ],
      "metadata": {
        "id": "G5CecIAwI9xh",
        "colab": {
          "base_uri": "https://localhost:8080/"
        },
        "outputId": "b703504f-3092-4fc1-a18d-3413191da1f4"
      },
      "execution_count": 24,
      "outputs": [
        {
          "output_type": "stream",
          "name": "stderr",
          "text": [
            ".vector_cache/glove.6B.zip: 862MB [02:39, 5.40MB/s]                           \n",
            "100%|█████████▉| 399999/400000 [00:43<00:00, 9298.10it/s]\n"
          ]
        }
      ]
    },
    {
      "cell_type": "code",
      "source": [
        "embedding_matrix.shape"
      ],
      "metadata": {
        "colab": {
          "base_uri": "https://localhost:8080/"
        },
        "id": "nEDxytAnKEpj",
        "outputId": "31e0c200-3836-4a22-c6ea-eed0780ac477"
      },
      "execution_count": 25,
      "outputs": [
        {
          "output_type": "execute_result",
          "data": {
            "text/plain": [
              "torch.Size([53016, 300])"
            ]
          },
          "metadata": {},
          "execution_count": 25
        }
      ]
    },
    {
      "cell_type": "code",
      "source": [
        "# Check if CUDA is available\n",
        "device = torch.device(\"cuda\" if torch.cuda.is_available() else \"cpu\")\n",
        "print(\"Using device:\", device)\n",
        "\n",
        "# Define the model\n",
        "class BOWModel(nn.Module):\n",
        "    def __init__(self, embedding_matrix):\n",
        "        super(BOWModel, self).__init__()\n",
        "        self.embedding = nn.Embedding.from_pretrained(embedding_matrix, freeze=True)\n",
        "        embedding_dim = embedding_matrix.size(1)  # Get the size of the embeddings\n",
        "\n",
        "        # Define hidden layer sizes\n",
        "        hidden_dim1 = 128  # Size of the first hidden layer\n",
        "        hidden_dim2 = 64   # Size of the second hidden layer\n",
        "\n",
        "        # Fully connected layers\n",
        "        self.fc1 = nn.Linear(embedding_dim, hidden_dim1)\n",
        "        self.fc2 = nn.Linear(hidden_dim1, hidden_dim2)\n",
        "        self.fc3 = nn.Linear(hidden_dim2, 1)  # Output layer for binary classification\n",
        "\n",
        "\n",
        "\n",
        "    def forward(self, text):\n",
        "        embedded = self.embedding(text)\n",
        "        # Apply an average pooling on the sequence dimension\n",
        "        pooled = embedded.mean(1)  # Assumes (batch_size, seq_length, embedding_dim)\n",
        "\n",
        "        # Pass through the first hidden layer and apply ReLU activation\n",
        "        x = F.relu(self.fc1(pooled))\n",
        "        # Pass through the second hidden layer and apply ReLU activation\n",
        "        x = F.relu(self.fc2(x))\n",
        "\n",
        "        # Output layer\n",
        "        output = self.fc3(x)\n",
        "        return output\n",
        "\n",
        "# Initialize model\n",
        "model = BOWModel(embedding_matrix).to(device)\n",
        "\n",
        "# Define loss function and optimizer\n",
        "criterion = nn.BCEWithLogitsLoss().to(device)\n",
        "optimizer = torch.optim.Adam(model.parameters(), lr=0.001)\n"
      ],
      "metadata": {
        "colab": {
          "base_uri": "https://localhost:8080/"
        },
        "id": "OCmVRuG2d_Hf",
        "outputId": "bb473075-a620-4197-dae9-37a6b790adc9"
      },
      "execution_count": 26,
      "outputs": [
        {
          "output_type": "stream",
          "name": "stdout",
          "text": [
            "Using device: cuda\n"
          ]
        }
      ]
    },
    {
      "cell_type": "markdown",
      "source": [
        "Training with epochs"
      ],
      "metadata": {
        "id": "6M-HdPOG7qSE"
      }
    },
    {
      "cell_type": "code",
      "source": [
        "# Function to train the model\n",
        "def train_model(model, train_loader, val_loader, epochs, initial_epoch=0):\n",
        "    results = []  # List to store results of each epoch\n",
        "    for epoch in range(initial_epoch, initial_epoch + epochs):\n",
        "        model.train()  # Set the model to training mode\n",
        "        total_loss, total_accuracy = 0, 0\n",
        "        all_predictions, all_labels = [], []\n",
        "        for lyrics, labels in train_loader:\n",
        "            lyrics, labels = lyrics.to(device), labels.to(device)\n",
        "            optimizer.zero_grad()\n",
        "            output = model(lyrics)\n",
        "            loss = criterion(output.squeeze(), labels)\n",
        "            loss.backward()\n",
        "            optimizer.step()\n",
        "            total_loss += loss.item()\n",
        "            predictions = torch.sigmoid(output).ge(0.5).float()\n",
        "            total_accuracy += (predictions == labels.unsqueeze(1)).float().mean().item()\n",
        "            all_predictions.extend(predictions.cpu().view(-1).tolist())\n",
        "            all_labels.extend(labels.cpu().tolist())\n",
        "\n",
        "        train_loss = total_loss / len(train_loader)\n",
        "        train_accuracy = total_accuracy / len(train_loader)\n",
        "        train_f1 = f1_score(all_labels, [int(p) for p in all_predictions])\n",
        "\n",
        "        # Evaluate the model after each epoch\n",
        "        val_loss, val_acc, val_f1 = evaluate(model, val_loader)\n",
        "\n",
        "        # Save epoch results\n",
        "        results.append({\n",
        "            'Epoch': epoch + 1,\n",
        "            'Train Loss': train_loss,\n",
        "            'Train Accuracy': train_accuracy,\n",
        "            'Train F1': train_f1,\n",
        "            'Validation Loss': val_loss,\n",
        "            'Validation Accuracy': val_acc,\n",
        "            'Validation F1': val_f1\n",
        "        })\n",
        "\n",
        "        # Print epoch results\n",
        "        print(f'Epoch {epoch+1}/{epochs} - Train Loss: {train_loss:.4f}, Train Acc: {train_accuracy:.4f}, Train F1: {train_f1:.4f}, Val Loss: {val_loss:.4f}, Val Acc: {val_acc:.4f}, Val F1: {val_f1:.4f}')\n",
        "\n",
        "        # Checkpoint saving\n",
        "        if (epoch + 1) % 100 == 0:  # Save every 100 epochs\n",
        "            torch.save(model.state_dict(), f'model_{epoch+1}_epochs.pth')\n",
        "            torch.save(optimizer.state_dict(), f'optimizer_{epoch+1}_epochs.pth')\n",
        "            print(f\"Checkpoint saved at epoch {epoch+1}\")\n",
        "\n",
        "    # Convert results to DataFrame\n",
        "    results_df = pd.DataFrame(results)\n",
        "    return results_df\n",
        "\n",
        "# Function to evaluate the model\n",
        "def evaluate(model, dataloader, return_predictions=False):\n",
        "    model.eval()  # Set the model to evaluation mode\n",
        "    total_loss, total_accuracy = 0, 0\n",
        "    all_predictions, all_labels = [], []\n",
        "    with torch.no_grad():\n",
        "        for lyrics, labels in dataloader:\n",
        "            lyrics, labels = lyrics.to(device), labels.to(device)\n",
        "            output = model(lyrics)\n",
        "            loss = criterion(output.squeeze(), labels)\n",
        "            total_loss += loss.item()\n",
        "            predictions = torch.sigmoid(output).ge(0.5).float()\n",
        "            total_accuracy += (predictions == labels.unsqueeze(1)).float().mean().item()\n",
        "            all_predictions.extend(predictions.cpu().view(-1).tolist())\n",
        "            all_labels.extend(labels.cpu().tolist())\n",
        "\n",
        "    val_loss = total_loss / len(dataloader)\n",
        "    val_accuracy = total_accuracy / len(dataloader)\n",
        "    val_f1 = f1_score(all_labels, [int(p) for p in all_predictions])\n",
        "\n",
        "    if return_predictions:\n",
        "        return val_loss, val_accuracy, val_f1, all_predictions, all_labels\n",
        "\n",
        "    return val_loss, val_accuracy, val_f1\n"
      ],
      "metadata": {
        "id": "a1Zv0MGOtsfk"
      },
      "execution_count": 35,
      "outputs": []
    },
    {
      "cell_type": "code",
      "source": [
        "# Run training and evaluation\n",
        "num_epochs = 100  # Define the number of epochs\n",
        "results_df = train_model(model, train_loader, val_loader, num_epochs)\n",
        "\n",
        "# Save the results to a CSV file\n",
        "results_df.to_csv('training_results_allWords.csv', index=False)\n",
        "print(\"Results saved to 'training_results_allWords.csv'\")"
      ],
      "metadata": {
        "id": "I-Y_lq2Nx74C"
      },
      "execution_count": null,
      "outputs": []
    },
    {
      "cell_type": "code",
      "source": [
        "'''\n",
        "# Load model and optimizer state\n",
        "model.load_state_dict(torch.load('model_100_epochs.pth'))\n",
        "optimizer.load_state_dict(torch.load('optimizer_100_epochs.pth'))\n",
        "model.to(device)  # Make sure to reassign the model to the device\n",
        "\n",
        "# Now train for an additional 900 epochs\n",
        "train_model(model, train_loader, val_loader, 1000, initial_epoch=100)\n",
        "'''"
      ],
      "metadata": {
        "colab": {
          "base_uri": "https://localhost:8080/"
        },
        "id": "J1XqF6389Hm4",
        "outputId": "5cc21bf0-f0d1-4d23-b875-dc59de0fff04"
      },
      "execution_count": null,
      "outputs": [
        {
          "output_type": "execute_result",
          "data": {
            "text/plain": [
              "BOWModel(\n",
              "  (embedding): Embedding(56424, 300)\n",
              "  (fc1): Linear(in_features=300, out_features=128, bias=True)\n",
              "  (fc2): Linear(in_features=128, out_features=64, bias=True)\n",
              "  (fc3): Linear(in_features=64, out_features=1, bias=True)\n",
              ")"
            ]
          },
          "metadata": {},
          "execution_count": 95
        }
      ]
    },
    {
      "cell_type": "code",
      "source": [
        "# Compute the confusion matrix for the last epoch's validation data\n",
        "_, val_accuracy, val_f1, predictions, labels = evaluate(model, val_loader, return_predictions=True)\n",
        "cm = confusion_matrix(labels, predictions)\n",
        "\n",
        "# Plotting the confusion matrix\n",
        "fig, ax = plt.subplots(figsize=(8, 8))\n",
        "sns.heatmap(cm, annot=True, fmt='d', ax=ax, cmap='Blues', cbar=False)\n",
        "ax.set_xlabel('Predicted labels')\n",
        "ax.set_ylabel('True labels')\n",
        "ax.set_title('Confusion Matrix: DAN with Glove (300 D) - with stop word')\n",
        "plt.show()\n",
        "\n",
        "# Save the results to a CSV file\n",
        "results_df.to_csv('training_results.csv', index=False)\n",
        "print(\"Results saved to 'training_results.csv'\")\n",
        "\n",
        "print(\"Accuracy:\", val_accuracy)\n",
        "print(\"F1 Score:\", val_f1)"
      ],
      "metadata": {
        "colab": {
          "base_uri": "https://localhost:8080/",
          "height": 770
        },
        "id": "bOW1WQVdvxvq",
        "outputId": "3ddc2b74-ee27-4192-cb3c-b26d7a6de953"
      },
      "execution_count": 37,
      "outputs": [
        {
          "output_type": "display_data",
          "data": {
            "text/plain": [
              "<Figure size 800x800 with 1 Axes>"
            ],
            "image/png": "[encoded data removed]"
          },
          "metadata": {}
        },
        {
          "output_type": "stream",
          "name": "stdout",
          "text": [
            "Results saved to 'training_results.csv'\n",
            "Accuracy: 0.5286556606022816\n",
            "F1 Score: 0.6652631578947368\n"
          ]
        }
      ]
    }
  ]
}